{
 "cells": [
  {
   "cell_type": "code",
   "execution_count": 1,
   "id": "5d560515-d7c8-4f73-a19e-ede30c6c1ea4",
   "metadata": {},
   "outputs": [],
   "source": [
    "%matplotlib inline\n",
    "import numpy as np\n",
    "import matplotlib.pyplot as plt\n",
    "\n",
    "# Set common figure parameters:\n",
    "newparams = {'axes.labelsize': 14, 'axes.linewidth': 1, 'savefig.dpi': 300,\n",
    "             'lines.linewidth': 1.0, 'figure.figsize': (8, 3),\n",
    "             'figure.subplot.wspace': 0.4,\n",
    "             'ytick.labelsize': 10, 'xtick.labelsize': 10,\n",
    "             'ytick.major.pad': 5, 'xtick.major.pad': 5,\n",
    "             'legend.fontsize': 10, 'legend.frameon': False,\n",
    "             'legend.handlelength': 1.5}\n",
    "plt.rcParams.update(newparams)"
   ]
  },
  {
   "cell_type": "code",
   "execution_count": 14,
   "id": "cc9820d6-60e9-4ade-a8b0-04e5eb7a000d",
   "metadata": {},
   "outputs": [
    {
     "name": "stderr",
     "output_type": "stream",
     "text": [
      "/tmp/ipykernel_182978/2933818994.py:21: UserWarning: Legend does not support handles for list instances.\n",
      "A proxy artist may be used instead.\n",
      "See: https://matplotlib.org/stable/users/explain/axes/legend_guide.html#controlling-the-legend-entries\n",
      "  plt.legend([p1, p3],['Analytical wavefunction', r'Potential $V(x)$'])\n"
     ]
    }
   ],
   "source": [
    "n = 1000       # number of points per unit on the x-axis.\n",
    "p = 10          # the number of points included on the x-axis\n",
    "\n",
    "x = np.linspace(-p,p,p*n,True)\n",
    "V = 0.5*x**2\n",
    "omega = 8\n",
    "alpha = 1\n",
    "hbar = 1\n",
    "xi = x*np.sqrt(omega/hbar)\n",
    "n = 0\n",
    "for t in np.arange(0, 1, 0.01):\n",
    "    psi = ((omega/(np.pi*hbar))**(0.25)*\n",
    "          np.exp(-np.abs(alpha)**2/2)*\n",
    "          np.exp(xi**2/2)*\n",
    "          np.abs(np.exp(-(xi-alpha*np.exp(-1j*omega*t)/np.sqrt(2))**2))\n",
    "          )\n",
    "    #Plot:\n",
    "    p1 = plt.plot(x, psi, 'g:')       # analytical eigenfunction\n",
    "    p3 = plt.plot(x, V, 'r')               # potential\n",
    "    # plt.plot(-x, psi, 'g:', -x, V , 'r') # same as above for negative x-values\n",
    "    plt.legend([p1, p3],['Analytical wavefunction', r'Potential $V(x)$'])\n",
    "    plt.xlabel(r'$x$')\n",
    "    plt.ylabel(r'$\\psi(x)$')\n",
    "    plt.ylim([-0.5, 3])\n",
    "    plt.xlim([-6, 6])\n",
    "    plt.title(f't={round(t,3)}');\n",
    "    plt.savefig(f't-{n:03d}.png')\n",
    "    n = n+1\n",
    "    plt.close()\n",
    "    #plt.show()"
   ]
  }
 ],
 "metadata": {
  "kernelspec": {
   "display_name": "Python 3 (ipykernel)",
   "language": "python",
   "name": "python3"
  },
  "language_info": {
   "codemirror_mode": {
    "name": "ipython",
    "version": 3
   },
   "file_extension": ".py",
   "mimetype": "text/x-python",
   "name": "python",
   "nbconvert_exporter": "python",
   "pygments_lexer": "ipython3",
   "version": "3.11.2"
  }
 },
 "nbformat": 4,
 "nbformat_minor": 5
}
