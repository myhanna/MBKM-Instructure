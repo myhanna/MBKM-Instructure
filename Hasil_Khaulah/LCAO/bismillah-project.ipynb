{
 "cells": [
  {
   "cell_type": "code",
   "execution_count": 12,
   "metadata": {},
   "outputs": [],
   "source": [
    "import numpy as np\n",
    "import matplotlib.pyplot as plt\n",
    "from scipy.linalg import eigh\n"
   ]
  },
  {
   "cell_type": "code",
   "execution_count": 13,
   "metadata": {},
   "outputs": [],
   "source": [
    "eps0 = 0\n",
    "t    = -1\n",
    "s    = 0"
   ]
  },
  {
   "cell_type": "code",
   "execution_count": 3,
   "metadata": {},
   "outputs": [
    {
     "name": "stdout",
     "output_type": "stream",
     "text": [
      "E-value: [-1.00000000e+00 -4.29322157e-18  1.00000000e+00]\n",
      "E-vector [[-5.00000000e-01 -7.07106781e-01  5.00000000e-01]\n",
      " [-7.07106781e-01 -4.85722573e-17 -7.07106781e-01]\n",
      " [-5.00000000e-01  7.07106781e-01  5.00000000e-01]]\n"
     ]
    }
   ],
   "source": [
    "#eigen value Li_3 linear\n",
    "\n",
    "H = np.array([[eps0 , t     , 0   ],\n",
    "              [t    , eps0  , t   ],\n",
    "              [0    , t     , eps0]])\n",
    "\n",
    "S = np.array([[1    , s     , 0],\n",
    "              [s    , 1     , s],\n",
    "              [0    , s     , 1]])\n",
    "\n",
    "E, C = eigh(H, S)\n",
    "E/= np.sqrt(2)\n",
    "print('E-value:', E)\n",
    "print('E-vector', C)"
   ]
  },
  {
   "cell_type": "code",
   "execution_count": 4,
   "metadata": {},
   "outputs": [
    {
     "name": "stdout",
     "output_type": "stream",
     "text": [
      "E-value: [-2.  1.  1.]\n",
      "E-vector [[ 0.57735027 -0.42250331  0.69868277]\n",
      " [ 0.57735027  0.81632869  0.01655721]\n",
      " [ 0.57735027 -0.39382538 -0.71523999]]\n"
     ]
    }
   ],
   "source": [
    "#eigen value Li_3 Segitiga\n",
    "\n",
    "H = np.array([[eps0 , t     , t   ],\n",
    "              [t    , eps0  , t   ],\n",
    "              [t    , t     , eps0]])\n",
    "\n",
    "S = np.array([[1    , s     , s],\n",
    "              [s    , 1     , s],\n",
    "              [s    , s     , 1]])\n",
    "\n",
    "E, C = eigh(H, S)\n",
    "print('E-value:', E)\n",
    "print('E-vector', C)"
   ]
  },
  {
   "cell_type": "code",
   "execution_count": 8,
   "metadata": {},
   "outputs": [
    {
     "name": "stdout",
     "output_type": "stream",
     "text": [
      "E-value: [-2. -1. -1.  1.  1.  2.]\n",
      "E-vector [[ 4.08248290e-01 -2.25629369e-02  5.76909219e-01 -4.81576194e-18\n",
      "   5.77350269e-01 -4.08248290e-01]\n",
      " [ 4.08248290e-01 -5.10899508e-01  2.68914533e-01 -5.00000000e-01\n",
      "  -2.88675135e-01  4.08248290e-01]\n",
      " [ 4.08248290e-01 -4.88336571e-01 -3.07994686e-01  5.00000000e-01\n",
      "  -2.88675135e-01 -4.08248290e-01]\n",
      " [ 4.08248290e-01  2.25629369e-02 -5.76909219e-01  2.32525553e-17\n",
      "   5.77350269e-01  4.08248290e-01]\n",
      " [ 4.08248290e-01  5.10899508e-01 -2.68914533e-01 -5.00000000e-01\n",
      "  -2.88675135e-01 -4.08248290e-01]\n",
      " [ 4.08248290e-01  4.88336571e-01  3.07994686e-01  5.00000000e-01\n",
      "  -2.88675135e-01  4.08248290e-01]]\n"
     ]
    }
   ],
   "source": [
    "#eigen value benzene\n",
    "\n",
    "H = np.array([[eps0 , t     , 0   , 0    , 0     , t   ],\n",
    "              [t    , eps0  , t   , 0    , 0     , 0   ],\n",
    "              [0    , t     , eps0, t    , 0     , 0   ],\n",
    "              [0    , 0     , t   , eps0 , t     , 0   ],\n",
    "              [0    , 0     , 0   , t    , eps0  , t   ],\n",
    "              [t    , 0     , 0   , 0    , t     , eps0]])\n",
    "\n",
    "S = np.array([[1    , s     , 0   , 0    , 0     , s],\n",
    "              [s    , 1     , s   , 0    , 0     , 0],\n",
    "              [0    , s     , 1   , s    , 0     , 0],\n",
    "              [0    , 0     , s   , 1    , s     , 0],\n",
    "              [0    , 0     , 0   , s    , 1     , s],\n",
    "              [s    , 0     , 0   , 0    , s     , 1]])\n",
    "\n",
    "E, C = eigh(H, S)\n",
    "print('E-value:', E)\n",
    "print('E-vector', C)"
   ]
  },
  {
   "cell_type": "markdown",
   "metadata": {},
   "source": [
    "C60 = fullerene"
   ]
  },
  {
   "cell_type": "code",
   "execution_count": 39,
   "metadata": {},
   "outputs": [
    {
     "name": "stdout",
     "output_type": "stream",
     "text": [
      "[[ 1.3899 -0.0572  0.0114]\n",
      " [ 0.6825 -0.0924  1.2087]\n",
      " [-0.7075 -0.0352  1.1973]\n",
      " [-1.3898  0.0572 -0.0114]\n",
      " [-0.6824  0.0925 -1.2088]\n",
      " [ 0.7075  0.0352 -1.1973]\n",
      " [-1.389   0.057  -0.011 ]\n",
      " [-1.3891  0.0571 -0.0111]]\n"
     ]
    }
   ],
   "source": [
    "file = open('C6.xyz')\n",
    "data = file.readlines()\n",
    "\n",
    "n = int(data[0])\n",
    "species = data[1]\n",
    "atomlist = []\n",
    "coordlist = []\n",
    "\n",
    "if n != (len(data)-2):\n",
    "    raise ValueError('n and number of atoms input mismatch')\n",
    "    \n",
    "for i in range(n):\n",
    "    # try:\n",
    "    #     row = data[i+2].split()\n",
    "    # except:\n",
    "    #     print('error')\n",
    "    #     break\n",
    "    row = data[i+2].split()\n",
    "    atomlist.append([row[0], i+1])\n",
    "    coordrow = list(map(float, row[1:4]))\n",
    "    coordlist.append(np.array(coordrow))\n",
    "\n",
    "coordlist = np.array(coordlist)\n",
    "\n",
    "print(coordlist)"
   ]
  },
  {
   "cell_type": "code",
   "execution_count": 40,
   "metadata": {},
   "outputs": [
    {
     "name": "stdout",
     "output_type": "stream",
     "text": [
      "[[['C', 1], [2, 6]], [['C', 2], [1, 3]], [['C', 3], [2, 4, 7, 8]], [['C', 4], [8]], [['C', 5], [4, 6, 7, 8]], [['C', 6], [1, 5]], [['X', 7], [8]], [['Y', 8], [7]]]\n"
     ]
    }
   ],
   "source": [
    "def interatomic_distance(atom1coord, atom2coord):\n",
    "    #atomcoord = array berisi xyz\n",
    "    deltax = atom1coord[0] - atom2coord[0]\n",
    "    deltay = atom1coord[1] - atom2coord[1]\n",
    "    deltaz = atom1coord[2] - atom2coord[2]\n",
    "\n",
    "    r = np.sqrt(deltax ** 2 + deltay ** 2 + deltaz ** 2)\n",
    "    return r\n",
    "\n",
    "def rel_err(a, b):\n",
    "    return abs(a - b) / b\n",
    "\n",
    "min_distance_tol = 0.01\n",
    "min_distance_list = []\n",
    "\n",
    "for i in range(n):\n",
    "    atomcoord_i = coordlist[i]\n",
    "    id_i = atomlist[i]\n",
    "    min_distance = 0\n",
    "\n",
    "    for j in range(n):\n",
    "        if i == j :\n",
    "            continue\n",
    "        atomcoord_j = coordlist[j]\n",
    "        distance_ij = interatomic_distance(atomcoord_i, atomcoord_j)\n",
    "        if min_distance == 0:\n",
    "            min_distance = distance_ij\n",
    "            nearest_neighbor = [j+1]\n",
    "        else:\n",
    "            if rel_err(distance_ij, min_distance) < min_distance_tol:\n",
    "                nearest_neighbor.append(j+1)\n",
    "            else:\n",
    "                if distance_ij < min_distance:\n",
    "                    min_distance = distance_ij\n",
    "                    nearest_neighbor = [j+1]\n",
    "\n",
    "    min_distance_list.append([id_i, nearest_neighbor])\n",
    "                \n",
    "print(min_distance_list)"
   ]
  },
  {
   "cell_type": "code",
   "execution_count": null,
   "metadata": {},
   "outputs": [],
   "source": []
  },
  {
   "cell_type": "code",
   "execution_count": 17,
   "metadata": {},
   "outputs": [
    {
     "name": "stdout",
     "output_type": "stream",
     "text": [
      "[ 2.5874  1.5918  3.1679  1.1654 -0.193   0.6682 -0.6859 -1.1207  3.1271\n",
      "  2.5542  3.4379  2.283   1.099   1.6326  0.4373  0.1707  2.5955  2.2854\n",
      "  3.1738  2.5512  1.6319  1.1007  0.1746  0.4399  1.7365  1.1637  2.7453\n",
      "  1.5942  0.6701 -0.1897 -1.117  -0.6878  1.7358  0.7293  2.7435  0.7302\n",
      " -0.4594 -0.464  -1.658  -1.6531 -2.5979 -2.3083 -2.5845 -3.1671 -1.7378\n",
      " -1.1811 -1.6107 -2.7271 -1.7418 -0.7513 -0.7491 -2.7355 -2.6051 -1.6107\n",
      " -1.1824 -3.1786 -3.1661 -2.5908 -2.3171 -3.4585]\n"
     ]
    }
   ],
   "source": [
    "x, y, z = np.loadtxt('C60-Ih.xyz', unpack = True)\n",
    "\n",
    "print(z)"
   ]
  },
  {
   "cell_type": "code",
   "execution_count": null,
   "metadata": {},
   "outputs": [],
   "source": [
    "def structure(n, acc):"
   ]
  },
  {
   "cell_type": "code",
   "execution_count": null,
   "metadata": {},
   "outputs": [],
   "source": [
    "def hamiltonian(n, acc, t):\n",
    "    struc = structure(n, acc)\n",
    "    n = len(struc)\n",
    "    H = np.zeros((n, n), dtype=float)\n",
    "\n",
    "    for i in range(n):\n",
    "        for j in range(n):\n",
    "            leng = np.linalg.norm(struc[i] - struc[j])\n",
    "            if 0.9 * acc < leng < 1.1 * acc:\n",
    "                H[i, j] = t\n",
    "\n",
    "    return H"
   ]
  }
 ],
 "metadata": {
  "kernelspec": {
   "display_name": "venv",
   "language": "python",
   "name": "python3"
  },
  "language_info": {
   "codemirror_mode": {
    "name": "ipython",
    "version": 3
   },
   "file_extension": ".py",
   "mimetype": "text/x-python",
   "name": "python",
   "nbconvert_exporter": "python",
   "pygments_lexer": "ipython3",
   "version": "3.8.10"
  }
 },
 "nbformat": 4,
 "nbformat_minor": 2
}
