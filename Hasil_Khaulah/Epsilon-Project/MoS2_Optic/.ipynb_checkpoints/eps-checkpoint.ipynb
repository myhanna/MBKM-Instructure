{
 "cells": [
  {
   "cell_type": "code",
   "execution_count": null,
   "id": "essential-cigarette",
   "metadata": {},
   "outputs": [],
   "source": [
    "# Import the necessary packages and modules\n",
    "import matplotlib.pyplot as plt\n",
    "plt.style.use('../../matplotlib/sci.mplstyle')\n",
    "import numpy as np\n",
    "\n",
    "# Set parameter\n",
    "c = 299792458 # velocity of light (m/s)\n",
    "hbar = 6.582119569e-16 # reduced Planck constant (eV.s)\n",
    "l = 2.0/0.65 # Reduce thinkness the unit cell (2nm) to real thickness (0.65 nm)\n",
    "\n",
    "# Open and read the real part of dielectric tensor diagonal components\n",
    "ener, repsx, repsy, repsz = np.loadtxt('epsr_mos2.dat', unpack=True)\n",
    "# Open and read the imaginary part of dielectric tensor diagonal components\n",
    "ener, iepsx, iepsy, iepsz = np.loadtxt('epsi_mos2.dat', unpack=True)\n",
    "\n",
    "# Absorption coefficient in x-, y-, z-directions\n",
    "alphax = 2*(ener/hbar)*np.sqrt((np.sqrt((l*repsx)**2+(l*iepsx)**2)-l*repsx)/2)/c\n",
    "alphay = 2*(ener/hbar)*np.sqrt((np.sqrt((l*repsy)**2+(l*iepsy)**2)-l*repsy)/2)/c\n",
    "alphaz = 2*(ener/hbar)*np.sqrt((np.sqrt((l*repsz)**2+(l*iepsz)**2)-l*repsz)/2)/c\n",
    "\n",
    "# Create figure object\n",
    "fig, (ax1, ax3) = plt.subplots(1, 2, constrained_layout=True, figsize=(10, 4))\n",
    "ax2 = ax1.twinx()\n",
    "# Plot the epsilon\n",
    "ax1.plot(ener, l*repsx, 'b-')\n",
    "ax2.plot(ener, l*iepsx, 'r--')\n",
    "# Add the x and y-axis labels\n",
    "ax1.set_xlabel('Photon energy (eV)')\n",
    "ax1.set_ylabel(r'Re$(\\varepsilon_{xx})$', color='b')\n",
    "ax1.tick_params(axis='y', labelcolor='b')\n",
    "ax2.set_ylabel(r'Im$(\\varepsilon_{xx})$', color='r')\n",
    "ax2.tick_params(axis='y', labelcolor='r')\n",
    "# Set the axis limits\n",
    "ax1.set_xlim(0, 6)\n",
    "ax1.set_ylim(0, 36)\n",
    "ax2.set_ylim(0, 36)\n",
    "\n",
    "# Plot the abosorption coefficient\n",
    "ax3.plot(ener, alphax/10**8, c='k')\n",
    "# Add the x and y-axis labels\n",
    "ax3.set_xlabel('Photon energy (eV)')\n",
    "ax3.set_ylabel(r'$\\alpha_{xx}$ (10$^8$/m)')\n",
    "# Set the axis limits\n",
    "ax3.set_xlim(0, 6)\n",
    "ax3.set_ylim(0, 1.4)\n",
    "\n",
    "# Save a figure to the pdf file\n",
    "plt.savefig('plot-optic.pdf')\n",
    "plt.show()"
   ]
  }
 ],
 "metadata": {
  "kernelspec": {
   "display_name": "Python 3 (ipykernel)",
   "language": "python",
   "name": "python3"
  },
  "language_info": {
   "codemirror_mode": {
    "name": "ipython",
    "version": 3
   },
   "file_extension": ".py",
   "mimetype": "text/x-python",
   "name": "python",
   "nbconvert_exporter": "python",
   "pygments_lexer": "ipython3",
   "version": "3.10.6"
  }
 },
 "nbformat": 4,
 "nbformat_minor": 5
}
