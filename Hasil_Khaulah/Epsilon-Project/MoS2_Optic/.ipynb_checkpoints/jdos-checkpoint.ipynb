{
 "cells": [
  {
   "cell_type": "code",
   "execution_count": null,
   "metadata": {},
   "outputs": [],
   "source": [
    "# Import the necessary packages and modules\n",
    "import matplotlib.pyplot as plt\n",
    "plt.style.use('../../matplotlib/sci.mplstyle')\n",
    "import numpy as np\n",
    "\n",
    "# Load data\n",
    "ener, jdos = np.loadtxt('jdos_mos2.dat', unpack=True)\n",
    "\n",
    "# Create figure object\n",
    "plt.figure()\n",
    "# Plot the JDOS\n",
    "plt.plot(ener, jdos, c='b')\n",
    "# Add the x and y-axis labels\n",
    "plt.xlabel('Energy (eV)')\n",
    "plt.ylabel('JDOS (states/eV/unit-cell)')\n",
    "# Set the axis limits\n",
    "plt.xlim(0, 6)\n",
    "plt.ylim(0, 0.022)\n",
    "# Save a figure to the pdf file\n",
    "plt.savefig('plot-jdos.pdf')\n",
    "# Show plot\n",
    "plt.show()"
   ]
  }
 ],
 "metadata": {
  "kernelspec": {
   "display_name": "Python 3 (ipykernel)",
   "language": "python",
   "name": "python3"
  },
  "language_info": {
   "codemirror_mode": {
    "name": "ipython",
    "version": 3
   },
   "file_extension": ".py",
   "mimetype": "text/x-python",
   "name": "python",
   "nbconvert_exporter": "python",
   "pygments_lexer": "ipython3",
   "version": "3.10.6"
  }
 },
 "nbformat": 4,
 "nbformat_minor": 4
}
