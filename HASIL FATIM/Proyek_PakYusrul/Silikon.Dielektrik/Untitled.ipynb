{
 "cells": [
  {
   "cell_type": "code",
   "execution_count": null,
   "id": "25e6da24-0aa0-4861-ae40-fcdd9f755ed5",
   "metadata": {},
   "outputs": [],
   "source": [
    "import matplotlib.pyplot as plt\n",
    "plt.style.use('sci.mplstyle')\n",
    "import numpy as np\n",
    "\n",
    "#Mengeset Parameter\n",
    "c    = 299792458\n",
    "hbar = 6.582119569e-16\n",
    "\n",
    "# Membaca data \n",
    "ener,repsx,respsy,repsz = np.loadtxt('epsr_si.dat', unpack = True)\n",
    "ener,repsx,respsy,repsz = np.loadtxt('epsi_si.dat', unpack = True)\n",
    "\n",
    "# Menghitung refraktive indeks\n",
    "\n",
    "\n"
   ]
  }
 ],
 "metadata": {
  "kernelspec": {
   "display_name": "Python 3 (ipykernel)",
   "language": "python",
   "name": "python3"
  },
  "language_info": {
   "codemirror_mode": {
    "name": "ipython",
    "version": 3
   },
   "file_extension": ".py",
   "mimetype": "text/x-python",
   "name": "python",
   "nbconvert_exporter": "python",
   "pygments_lexer": "ipython3",
   "version": "3.8.10"
  }
 },
 "nbformat": 4,
 "nbformat_minor": 5
}
