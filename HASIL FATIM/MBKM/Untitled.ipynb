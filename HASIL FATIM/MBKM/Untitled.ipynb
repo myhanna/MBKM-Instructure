{
 "cells": [
  {
   "cell_type": "code",
   "execution_count": 9,
   "id": "cc5c890d-ddc1-4b3f-a6ad-fd986f9679d0",
   "metadata": {},
   "outputs": [],
   "source": [
    "import numpy as np\n",
    "import matplotlib.pyplot as plt"
   ]
  },
  {
   "cell_type": "code",
   "execution_count": 10,
   "id": "2bd713f0-1dba-4374-b13e-b5586f9973b2",
   "metadata": {},
   "outputs": [],
   "source": [
    "# Set common figure parameters:\n",
    "newparams = {'axes.labelsize': 14, 'axes.linewidth': 1, 'savefig.dpi': 300,\n",
    "             'lines.linewidth': 1.0, 'figure.figsize': (8, 3),\n",
    "             'figure.subplot.wspace': 0.4,\n",
    "             'ytick.labelsize': 10, 'xtick.labelsize': 10,\n",
    "             'ytick.major.pad': 5, 'xtick.major.pad': 5,\n",
    "             'legend.fontsize': 10, 'legend.frameon': False,\n",
    "             'legend.handlelength': 1.5}\n",
    "plt.rcParams.update(newparams)"
   ]
  },
  {
   "cell_type": "code",
   "execution_count": 15,
   "id": "64986168-9079-4997-91c3-82526f8fc3ac",
   "metadata": {},
   "outputs": [],
   "source": [
    "n = 1000       # number of points per unit on the x-axis.\n",
    "p = 10          # the number of points included on the x-axis\n",
    "\n",
    "x = np.linspace(-p,p,p*n,True)\n",
    "V = 0.5*x**2\n",
    "omega = 1.6\n",
    "alpha = 1\n",
    "hbar = 1\n",
    "xi = x*np.sqrt(omega/hbar)\n",
    "for t in np.arange(0, 100, 1):\n",
    "    psi = ((omega/(np.pi*hbar))**(0.25)*\n",
    "          np.exp(-np.abs(alpha)**2/2)*\n",
    "          np.exp(xi**2/2)*\n",
    "          np.abs(np.exp(-(xi-alpha*np.exp(-1j*omega*t)/np.sqrt(2))**2))\n",
    "          )\n",
    "    #Plot:\n",
    "    p1 = plt.plot(x, psi, 'g:')       # analytical eigenfunction\n",
    "    p3 = plt.plot(x, V, 'r')               # potential\n",
    "    # plt.plot(-x, psi, 'g:', -x, V , 'r') # same as above for negative x-values\n",
    "    #plt.legend([p1, p3],['Analytical wavefunction', r'Potential $V(x)$'])\n",
    "    plt.xlabel(r'$x$')\n",
    "    plt.ylabel(r'$\\psi(x)$')\n",
    "    plt.ylim([-0.5, 3])\n",
    "    plt.xlim([-6, 6])\n",
    "    plt.title(f't={t}');\n",
    "    plt.savefig(f'./collab/t-{t:03d}.png')\n",
    "    plt.close()"
   ]
  },
  {
   "cell_type": "code",
   "execution_count": null,
   "id": "13aa0855-de7d-4a3b-b970-106d6f94ce4c",
   "metadata": {},
   "outputs": [],
   "source": []
  },
  {
   "cell_type": "code",
   "execution_count": null,
   "id": "2fbe3f8a-15c2-40d6-96b9-96433104c7eb",
   "metadata": {},
   "outputs": [],
   "source": []
  }
 ],
 "metadata": {
  "kernelspec": {
   "display_name": "Python 3 (ipykernel)",
   "language": "python",
   "name": "python3"
  },
  "language_info": {
   "codemirror_mode": {
    "name": "ipython",
    "version": 3
   },
   "file_extension": ".py",
   "mimetype": "text/x-python",
   "name": "python",
   "nbconvert_exporter": "python",
   "pygments_lexer": "ipython3",
   "version": "3.11.2"
  }
 },
 "nbformat": 4,
 "nbformat_minor": 5
}
