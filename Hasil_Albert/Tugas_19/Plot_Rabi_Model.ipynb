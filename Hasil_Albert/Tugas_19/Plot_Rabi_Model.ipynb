{
 "cells": [
  {
   "cell_type": "markdown",
   "metadata": {},
   "source": [
    "# Membuat Rabi Model (Fig. 4.4) dengan Qutip"
   ]
  },
  {
   "cell_type": "code",
   "execution_count": null,
   "metadata": {},
   "outputs": [],
   "source": [
    "import numpy as np\n",
    "import matplotlib.pyplot as plt\n",
    "from qutip import *"
   ]
  },
  {
   "cell_type": "markdown",
   "metadata": {},
   "source": [
    "Dengan Hamiltonian beriku untuk Rabi model\n",
    "$$\n",
    "\\hat{H} = \\frac{1}{2}\\hbar\\omega_0\\sigma_z+\\hat{\\mathcal{V}}\\cos\\left(\\omega t\\right)\\sigma_x\n",
    "$$\n",
    "\n",
    "Mengingat untuk RWA dimana $\\omega_{0} - \\omega$ saja yang dipakai."
   ]
  },
  {
   "cell_type": "code",
   "execution_count": null,
   "metadata": {},
   "outputs": [],
   "source": [
    "# list parameter atau variabel yang dibutuhkan\n",
    "hbar    = 1\n",
    "w0      = 10\n",
    "V       = 0.1 * w0\n",
    "tlist   = np.arange(0, 25, 0.01)\n",
    "g       = basis(2,0)\n",
    "e       = basis(2,1)\n",
    "psi0    = g"
   ]
  },
  {
   "cell_type": "code",
   "execution_count": null,
   "metadata": {},
   "outputs": [],
   "source": [
    "# mendifinisikan hamiltonian dan fungsi gelombang\n",
    "def H_rabi(t, detuning, RWA=False):\n",
    "    if RWA:  \n",
    "        return [[V/2*sigmax(), np.cos(detuning * t)], [V/2*sigmay(), np.sin(detuning*t)]]\n",
    "    return [hbar * w0 * sigmaz() / 2, [V * sigmax(), np.cos((w0 - detuning) * t)]]\n",
    "\n",
    "def prob(of_what_state, if_given_state):\n",
    "    return np.array(\n",
    "        [np.abs(of_what_state.overlap(if_given_state[i])) ** 2\n",
    "         for i in range(len(tlist))]\n",
    "        )"
   ]
  },
  {
   "cell_type": "code",
   "execution_count": null,
   "metadata": {},
   "outputs": [],
   "source": [
    "fig, ax = plt.subplots(1, 3, figsize=(18,5))\n",
    "\n",
    "rwa = [True]\n",
    "for detuning in [0, 0.5, 1]:    \n",
    "        H = H_rabi(tlist, detuning = detuning, RWA = rwa)\n",
    "\n",
    "        psi_t = sesolve(H, psi0, tlist).states\n",
    "\n",
    "        if rwa: \n",
    "            for j in range(len(tlist)):\n",
    "                U = (1j * w0 / 2 * sigmaz() * tlist[j]).expm()\n",
    "                psi_t[j] = U.dag() * psi_t[j]\n",
    "\n",
    "        g_t = prob(g, psi_t)\n",
    "\n",
    "        e_t = prob(e, psi_t)\n",
    "        \n",
    "        w = e_t - g_t\n",
    "               \n",
    "        ax[0].plot(tlist, g_t, label = r\"$\\Delta\\ =\\ %s$\" %detuning)\n",
    "        ax[1].plot(tlist, e_t, label = r\"$\\Delta\\ =\\ %s$\" %detuning)\n",
    "        ax[2].plot(tlist, w, label = r\"$\\Delta\\ =\\ %s$\" %detuning)\n",
    "\n",
    "# set parameter axis\n",
    "ax[0].set_ylim(-0.01,1.01)\n",
    "ax[1].set_ylim(-0.01,1.01)\n",
    "ax[2].set_ylim(-1.01,1.01)\n",
    "ax[0].legend(loc = \"best\", fontsize = 12)\n",
    "ax[1].legend(loc = \"best\", fontsize = 12)\n",
    "ax[2].legend(loc = \"best\", fontsize = 12)\n",
    "ax[0].set_xlabel(r\"t\", fontsize = 12)\n",
    "ax[1].set_xlabel(r\"t\", fontsize = 12)\n",
    "ax[2].set_xlabel(r\"t\", fontsize = 12)\n",
    "ax[0].set_ylabel(r\"$P_g(t)$\", fontsize = 12)\n",
    "ax[1].set_ylabel(r\"$P_e(t)$\", fontsize = 12)\n",
    "ax[2].set_ylabel(r\"$W(t)$\", fontsize = 12)\n",
    "\n",
    "fig.suptitle('Rabi Model with RWA', fontsize = 24)\n",
    "fig.savefig(\"Rabi_Model_Qutip_Coba.png\", dpi = 600)\n",
    "plt.show()"
   ]
  }
 ],
 "metadata": {
  "kernelspec": {
   "display_name": "venv",
   "language": "python",
   "name": "python3"
  },
  "language_info": {
   "codemirror_mode": {
    "name": "ipython",
    "version": 3
   },
   "file_extension": ".py",
   "mimetype": "text/x-python",
   "name": "python",
   "nbconvert_exporter": "python",
   "pygments_lexer": "ipython3",
   "version": "3.10.12"
  }
 },
 "nbformat": 4,
 "nbformat_minor": 2
}
