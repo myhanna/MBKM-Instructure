{
 "cells": [
  {
   "cell_type": "code",
   "execution_count": null,
   "id": "bcb3134d-3c7e-4f2a-8369-8b871ee820a5",
   "metadata": {},
   "outputs": [],
   "source": [
    "# numerical module\n",
    "import numpy as np\n",
    "\n",
    "#setup plotting \n",
    "import matplotlib.pyplot as plt\n",
    "import matplotlib.gridspec as gridspec\n",
    "plt.style.use('./style/SciencePlots-APS.mplstyle')"
   ]
  },
  {
   "cell_type": "markdown",
   "id": "af640209-4744-40e5-98f5-04aedebdeaf4",
   "metadata": {},
   "source": [
    "## Plot bandstructure"
   ]
  },
  {
   "cell_type": "markdown",
   "id": "4986908a-97ce-4f90-a3f0-e40be5fba750",
   "metadata": {},
   "source": [
    "## Plot density-of-states (DOS)"
   ]
  },
  {
   "cell_type": "markdown",
   "id": "5a0f18b2-e81b-4e9f-ac96-811661fb571e",
   "metadata": {},
   "source": [
    "## Plot bandstructure alongside with DOS"
   ]
  },
  {
   "cell_type": "markdown",
   "id": "9ee035a7-b0f5-407e-a4c2-2587191c8888",
   "metadata": {},
   "source": [
    "## Plot partial density-of-states"
   ]
  },
  {
   "cell_type": "markdown",
   "id": "ce170249-7caf-44da-9339-a10f713a9158",
   "metadata": {},
   "source": [
    "## Raman peak analysis"
   ]
  },
  {
   "cell_type": "code",
   "execution_count": null,
   "id": "e4616d04-0ef7-4797-8cb1-03064dcb006e",
   "metadata": {},
   "outputs": [],
   "source": [
    "import numpy as np\n",
    "import matplotlib.pyplot as plt\n",
    "\n",
    "# Load data (fill it with read raman data in the folder /data/ with unpack=True)\n",
    "\n",
    "# Plot data\n",
    "plt.plot(w, i)\n",
    "plt.xlabel('Raman shift (cm$^{-1}$)')\n",
    "plt.ylabel('Intensity (counts)')\n",
    "\n",
    "# Create a new figure and axes instance\n",
    "ax = plt.gca()\n",
    "\n",
    "# Shade and annotate a red rectangle over a typical region\n",
    "ax.annotate('Some typical region', xy=(550, 15500), xycoords='data')\n",
    "ax.fill_between([700, 800], 0, [16000, 16000], facecolor='red', alpha=0.25)\n",
    "\n",
    "# Shade a specific region in the spectrum and annotate its area\n",
    "ind = (w > 1019) & (w < 1054)\n",
    "ax.fill_between(w[ind], 0, i[ind], facecolor='gray', alpha=0.5)\n",
    "area = np.trapz(i[ind], w[ind])\n",
    "x, y = w[ind][np.argmax(i[ind])], i[ind][np.argmax(i[ind])]\n",
    "ax.annotate(f'Area = {area:.2f}', xy=(x, y),\n",
    "            xycoords='data',\n",
    "            xytext=(x + 50, y + 5000),\n",
    "            textcoords='data',\n",
    "            arrowprops=dict(arrowstyle=\"->\", \n",
    "                            connectionstyle=\"angle,angleA=0,angleB=90,rad=10\"))\n",
    "\n",
    "# Annotate a peak in the 1250-1252 range\n",
    "ind = (w > 1250) & (w < 1252)\n",
    "x, y = w[ind][np.argmax(i[ind])], i[ind][np.argmax(i[ind])]\n",
    "ax.annotate('A peak', xy=(x, y),\n",
    "            xycoords='data',\n",
    "            xytext=(x + 350, y + 2000),\n",
    "            textcoords='data',\n",
    "            arrowprops=dict(arrowstyle=\"->\",\n",
    "                            connectionstyle=\"angle,angleA=0,angleB=90,rad=10\"))\n",
    "\n",
    "# Annotate another peak in the 1380-1400 range\n",
    "ind = (w > 1380) & (w < 1400)\n",
    "x, y = w[ind][np.argmax(i[ind])], i[ind][np.argmax(i[ind])]\n",
    "ax.annotate('Another peak', xy=(x, y),\n",
    "            xycoords='data',\n",
    "            xytext=(x + 50, y + 2000),\n",
    "            textcoords='data',\n",
    "            arrowprops=dict(arrowstyle=\"->\",\n",
    "                            connectionstyle=\"angle,angleA=0,angleB=90,rad=10\"))\n",
    "\n",
    "# Indicate a region with connected arrows\n",
    "ax.annotate('CH bonds', xy=(2780, 6000), xycoords='data')\n",
    "ax.annotate('', xy=(2800., 5000.), xycoords='data',\n",
    "            xytext=(3050, 5000), textcoords='data',\n",
    "            arrowprops=dict(arrowstyle=\"<->\",\n",
    "                            connectionstyle=\"bar\",\n",
    "                            ec=\"k\",\n",
    "                            shrinkA=0.1, shrinkB=0.1))\n",
    "\n",
    "#plt.savefig('images/plot-annotes.png')\n",
    "plt.show()\n"
   ]
  },
  {
   "cell_type": "code",
   "execution_count": null,
   "id": "4b680235-f46e-4cff-bce0-5d849cf4d20d",
   "metadata": {},
   "outputs": [],
   "source": []
  }
 ],
 "metadata": {
  "kernelspec": {
   "display_name": "Python 3 (ipykernel)",
   "language": "python",
   "name": "python3"
  },
  "language_info": {
   "codemirror_mode": {
    "name": "ipython",
    "version": 3
   },
   "file_extension": ".py",
   "mimetype": "text/x-python",
   "name": "python",
   "nbconvert_exporter": "python",
   "pygments_lexer": "ipython3",
   "version": "3.9.13"
  }
 },
 "nbformat": 4,
 "nbformat_minor": 5
}
