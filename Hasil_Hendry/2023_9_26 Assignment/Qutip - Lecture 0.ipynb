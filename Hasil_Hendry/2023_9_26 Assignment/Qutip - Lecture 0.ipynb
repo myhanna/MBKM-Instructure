{
 "cells": [
  {
   "cell_type": "markdown",
   "metadata": {},
   "source": [
    "#### **Imports**"
   ]
  },
  {
   "cell_type": "code",
   "execution_count": 2,
   "metadata": {},
   "outputs": [],
   "source": [
    "import matplotlib.pyplot as plt\n",
    "import numpy as np\n",
    "import qutip as qt"
   ]
  },
  {
   "cell_type": "markdown",
   "metadata": {},
   "source": [
    "#### **Creating and playing with quantum objects**\n",
    "\n",
    "For example, let us manually create one of the Pauli matrices."
   ]
  },
  {
   "cell_type": "code",
   "execution_count": 3,
   "metadata": {},
   "outputs": [
    {
     "data": {
      "text/latex": [
       "Quantum object: dims = [[2], [2]], shape = (2, 2), type = oper, isherm = True $ \\\\ \\left(\\begin{matrix}0.0 & 1.0\\\\1.0 & 0.0\\\\\\end{matrix}\\right)$"
      ],
      "text/plain": [
       "Quantum object: dims = [[2], [2]], shape = (2, 2), type = oper, isherm = True\n",
       "Qobj data =\n",
       "[[0. 1.]\n",
       " [1. 0.]]"
      ]
     },
     "execution_count": 3,
     "metadata": {},
     "output_type": "execute_result"
    }
   ],
   "source": [
    "q = qt.Qobj([[0, 1], [1, 0]])\n",
    "q"
   ]
  },
  {
   "cell_type": "markdown",
   "metadata": {},
   "source": [
    "This has the same result as calling the built-in function."
   ]
  },
  {
   "cell_type": "code",
   "execution_count": 4,
   "metadata": {},
   "outputs": [
    {
     "data": {
      "text/latex": [
       "Quantum object: dims = [[2], [2]], shape = (2, 2), type = oper, isherm = True $ \\\\ \\left(\\begin{matrix}0.0 & 1.0\\\\1.0 & 0.0\\\\\\end{matrix}\\right)$"
      ],
      "text/plain": [
       "Quantum object: dims = [[2], [2]], shape = (2, 2), type = oper, isherm = True\n",
       "Qobj data =\n",
       "[[0. 1.]\n",
       " [1. 0.]]"
      ]
     },
     "execution_count": 4,
     "metadata": {},
     "output_type": "execute_result"
    }
   ],
   "source": [
    "qt.sigmax()"
   ]
  },
  {
   "cell_type": "markdown",
   "metadata": {},
   "source": [
    "We can have QuTiP tell us the attributes of a certain quantum object. For example, let us see what type of quantum object this is."
   ]
  },
  {
   "cell_type": "code",
   "execution_count": 5,
   "metadata": {},
   "outputs": [
    {
     "data": {
      "text/plain": [
       "'oper'"
      ]
     },
     "execution_count": 5,
     "metadata": {},
     "output_type": "execute_result"
    }
   ],
   "source": [
    "q.type"
   ]
  },
  {
   "cell_type": "markdown",
   "metadata": {},
   "source": [
    "It is an operator. But is it hermitian?"
   ]
  },
  {
   "cell_type": "code",
   "execution_count": 6,
   "metadata": {},
   "outputs": [
    {
     "data": {
      "text/plain": [
       "True"
      ]
     },
     "execution_count": 6,
     "metadata": {},
     "output_type": "execute_result"
    }
   ],
   "source": [
    "q.isherm"
   ]
  },
  {
   "cell_type": "markdown",
   "metadata": {},
   "source": [
    "It is. There are many other attributes and methods of the quantum object we are able to call. These are some more:"
   ]
  },
  {
   "cell_type": "code",
   "execution_count": 22,
   "metadata": {},
   "outputs": [
    {
     "name": "stdout",
     "output_type": "stream",
     "text": [
      "(2, 2) \n",
      "\n",
      " True \n",
      "\n",
      " False \n",
      "\n",
      " [-1.  1.] \n",
      "\n",
      " 0.0\n"
     ]
    }
   ],
   "source": [
    "print(q.shape, \"\\n\\n\"           # returns the shape of the object\n",
    ",q.isunitary,\"\\n\\n\"             # returns whether the object is unitary\n",
    ",q.isbra, \"\\n\\n\"                # returns whether the object is a bra\n",
    ",q.eigenenergies(), \"\\n\\n\"      # returns the eigenvalues of the object\n",
    ",q.tr() )                       # returns the trace of the object"
   ]
  },
  {
   "cell_type": "markdown",
   "metadata": {},
   "source": [
    "QuTiP also allows us to use mathematical operations with them."
   ]
  },
  {
   "cell_type": "code",
   "execution_count": 19,
   "metadata": {},
   "outputs": [
    {
     "data": {
      "text/latex": [
       "Quantum object: dims = [[2], [2]], shape = (2, 2), type = oper, isherm = True $ \\\\ \\left(\\begin{matrix}0.0 & 3.0\\\\3.0 & 0.0\\\\\\end{matrix}\\right)$"
      ],
      "text/plain": [
       "Quantum object: dims = [[2], [2]], shape = (2, 2), type = oper, isherm = True\n",
       "Qobj data =\n",
       "[[0. 3.]\n",
       " [3. 0.]]"
      ]
     },
     "execution_count": 19,
     "metadata": {},
     "output_type": "execute_result"
    }
   ],
   "source": [
    "q + 2*q"
   ]
  },
  {
   "cell_type": "code",
   "execution_count": 20,
   "metadata": {},
   "outputs": [
    {
     "data": {
      "text/latex": [
       "Quantum object: dims = [[2], [2]], shape = (2, 2), type = oper, isherm = True $ \\\\ \\left(\\begin{matrix}0.0 & 1.0\\\\1.0 & 0.0\\\\\\end{matrix}\\right)$"
      ],
      "text/plain": [
       "Quantum object: dims = [[2], [2]], shape = (2, 2), type = oper, isherm = True\n",
       "Qobj data =\n",
       "[[0. 1.]\n",
       " [1. 0.]]"
      ]
     },
     "execution_count": 20,
     "metadata": {},
     "output_type": "execute_result"
    }
   ],
   "source": [
    "q ** 3"
   ]
  },
  {
   "cell_type": "code",
   "execution_count": 21,
   "metadata": {},
   "outputs": [
    {
     "data": {
      "text/latex": [
       "Quantum object: dims = [[2], [2]], shape = (2, 2), type = oper, isherm = True $ \\\\ \\left(\\begin{matrix}1.543 & 1.175\\\\1.175 & 1.543\\\\\\end{matrix}\\right)$"
      ],
      "text/plain": [
       "Quantum object: dims = [[2], [2]], shape = (2, 2), type = oper, isherm = True\n",
       "Qobj data =\n",
       "[[1.54308063 1.17520119]\n",
       " [1.17520119 1.54308063]]"
      ]
     },
     "execution_count": 21,
     "metadata": {},
     "output_type": "execute_result"
    }
   ],
   "source": [
    "q.expm() # is a QuTiP method which returns e raised to the power of the quantum object."
   ]
  },
  {
   "cell_type": "markdown",
   "metadata": {},
   "source": [
    "Frequently used quantum objects are defined within QuTiP, so we can call it right away:"
   ]
  },
  {
   "cell_type": "code",
   "execution_count": 27,
   "metadata": {},
   "outputs": [
    {
     "name": "stdout",
     "output_type": "stream",
     "text": [
      "Quantum object: dims = [[2], [2]], shape = (2, 2), type = oper, isherm = False\n",
      "Qobj data =\n",
      "[[0. 1.]\n",
      " [0. 0.]] \n",
      "\n",
      " Quantum object: dims = [[2], [2]], shape = (2, 2), type = oper, isherm = True\n",
      "Qobj data =\n",
      "[[ 1.  0.]\n",
      " [ 0. -1.]] \n",
      "\n",
      " Quantum object: dims = [[2], [1]], shape = (2, 1), type = ket\n",
      "Qobj data =\n",
      "[[1.]\n",
      " [0.]] \n",
      "\n",
      " Quantum object: dims = [[2], [2]], shape = (2, 2), type = oper, isherm = True\n",
      "Qobj data =\n",
      "[[0. 0.]\n",
      " [0. 0.]]\n"
     ]
    }
   ],
   "source": [
    "print(\n",
    "    \n",
    "qt.destroy(2),        # is the annihilation operator\n",
    "\n",
    "\"\\n\\n\",\n",
    "\n",
    "qt.sigmaz(),         # is one of the Pauli matrices\n",
    "\n",
    "\"\\n\\n\",\n",
    "\n",
    "qt.basis(2, 0),          # is an orthonormal basis state\n",
    "\n",
    "\"\\n\\n\",\n",
    "\n",
    "qt.commutator(q, q)     # returns the commutator of two operators\n",
    "\n",
    ")"
   ]
  },
  {
   "cell_type": "markdown",
   "metadata": {},
   "source": [
    "We can also build quantum objects for composite systems:"
   ]
  },
  {
   "cell_type": "code",
   "execution_count": 35,
   "metadata": {},
   "outputs": [
    {
     "name": "stdout",
     "output_type": "stream",
     "text": [
      "Quantum object: dims = [[2, 2], [2, 2]], shape = (4, 4), type = oper, isherm = True\n",
      "Qobj data =\n",
      "[[ 1.  0.  0.  0.]\n",
      " [ 0.  1.  0.  0.]\n",
      " [ 0.  0. -1.  0.]\n",
      " [ 0.  0.  0. -1.]] \n",
      "\n",
      "is an operator we can use in a two-qubit system to have sigma_z act only on the first qubit.\n",
      "\n",
      "\n"
     ]
    }
   ],
   "source": [
    "print(sz1 := qt.tensor(qt.sigmaz(), qt.qeye(2)),\"\\n\\nis an operator we can use in a two-qubit system to have sigma_z act only on the first qubit.\\n\\n\") \n"
   ]
  },
  {
   "cell_type": "code",
   "execution_count": 36,
   "metadata": {},
   "outputs": [
    {
     "name": "stdout",
     "output_type": "stream",
     "text": [
      "Quantum object: dims = [[2, 2], [1, 1]], shape = (4, 1), type = ket\n",
      "Qobj data =\n",
      "[[0.]\n",
      " [0.]\n",
      " [1.]\n",
      " [0.]] \n",
      "\n",
      "represents the excited first qubit.\n",
      "\n",
      "\n",
      "Quantum object: dims = [[2, 2], [1, 1]], shape = (4, 1), type = ket\n",
      "Qobj data =\n",
      "[[0.]\n",
      " [1.]\n",
      " [0.]\n",
      " [0.]] \n",
      "\n",
      "represents the excited second qubit.\n",
      "\n",
      "\n"
     ]
    }
   ],
   "source": [
    "\n",
    "print(psi_1 := qt.tensor(qt.basis(2,1), qt.basis(2,0)), \"\\n\\nrepresents the excited first qubit.\\n\\n\")\n",
    "print(psi_2 := qt.tensor(qt.basis(2,0), qt.basis(2,1)), \"\\n\\nrepresents the excited second qubit.\\n\\n\")"
   ]
  },
  {
   "cell_type": "code",
   "execution_count": 37,
   "metadata": {},
   "outputs": [
    {
     "name": "stdout",
     "output_type": "stream",
     "text": [
      "Quantum object: dims = [[2, 2], [1, 1]], shape = (4, 1), type = ket\n",
      "Qobj data =\n",
      "[[ 0.]\n",
      " [ 0.]\n",
      " [-1.]\n",
      " [ 0.]] \n",
      "\n",
      " changes the first qubit\n",
      "\n",
      "\n",
      "Quantum object: dims = [[2, 2], [1, 1]], shape = (4, 1), type = ket\n",
      "Qobj data =\n",
      "[[0.]\n",
      " [1.]\n",
      " [0.]\n",
      " [0.]] \n",
      "\n",
      " but leaves the second qubit invariant.\n"
     ]
    }
   ],
   "source": [
    "print(sz1 * psi_1, \"\\n\\n changes the first qubit\\n\\n\")\n",
    "\n",
    "print(sz1 * psi_2, \"\\n\\n but leaves the second qubit invariant.\")"
   ]
  },
  {
   "cell_type": "markdown",
   "metadata": {},
   "source": [
    "The Hamiltonian is, of course, a quantum object. For example let us make the Hamiltonian representing Nuclear Quadrupole Resonance of a spin-1 nucleus:\n",
    "$$\n",
    "\\mathcal{H} = \\frac{e^2qQ}{4}\\left[3I_z^2-I^2+\\eta(I_x^2-I_y^2)\\right]\n",
    "$$\n",
    "Here $e^2qQ$ is known as the quadrupole coupling constant and $\\eta$ is called the asymmetry parameter."
   ]
  },
  {
   "cell_type": "code",
   "execution_count": 40,
   "metadata": {},
   "outputs": [
    {
     "data": {
      "text/latex": [
       "Quantum object: dims = [[3], [3]], shape = (3, 3), type = oper, isherm = True $ \\\\ \\left(\\begin{matrix}1.0 & 0.0 & 1.0\\\\0.0 & -2.0 & 0.0\\\\1.0 & 0.0 & 1.0\\\\\\end{matrix}\\right)$"
      ],
      "text/plain": [
       "Quantum object: dims = [[3], [3]], shape = (3, 3), type = oper, isherm = True\n",
       "Qobj data =\n",
       "[[ 1.  0.  1.]\n",
       " [ 0. -2.  0.]\n",
       " [ 1.  0.  1.]]"
      ]
     },
     "execution_count": 40,
     "metadata": {},
     "output_type": "execute_result"
    }
   ],
   "source": [
    "I_x, I_y, I_z = qt.jmat(1) # makes the spin-1 operators\n",
    "\n",
    "# The Hamiltonian is then simply\n",
    "factor = 1 # for the factor at the front\n",
    "eta = 1\n",
    "\n",
    "Ham = factor * (3 * I_z ** 2 - (I_x ** 2 + I_y ** 2 + I_z ** 2) + eta * (I_x ** 2 - I_y ** 2))\n",
    "\n",
    "Ham"
   ]
  },
  {
   "cell_type": "markdown",
   "metadata": {},
   "source": [
    "#### **Trying out a unitary dynamics**\n",
    "\n",
    "Let us take a look at the oscillation of the expectation value of a superposition state of a single qubit under a simple Hamiltonian:"
   ]
  },
  {
   "cell_type": "code",
   "execution_count": 44,
   "metadata": {},
   "outputs": [
    {
     "data": {
      "image/png": "[encoded data removed]",
      "text/plain": [
       "<Figure size 640x480 with 1 Axes>"
      ]
     },
     "metadata": {},
     "output_type": "display_data"
    }
   ],
   "source": [
    "Ham = qt.sigmaz()  # can be realized, for example, with a magnetic field along the axis of quantization forming a Larmor frequency of 1 on a system of NMR qubit.\n",
    "\n",
    "# The initial state would be the superposition state\n",
    "psi0 = (qt.basis(2,0) + qt.basis(2,1)).unit()  # The method normalizes our state\n",
    "\n",
    "timelst = np.linspace(0, 10, 100)\n",
    "\n",
    "result = qt.mesolve(Ham, psi0, timelst).states # solves the master equation equation for the system and take the states.\n",
    "                                               # Without any collapse operator, this is equivalent to [sesolve] which solves the Schroedinger equation.\n",
    "\n",
    "exp_sx = qt.expect(qt.sigmax(), result)     # gets the expectation values for sigma_x\n",
    "exp_sy = qt.expect(qt.sigmay(), result)     # and for sigma_y\n",
    "\n",
    "# Equivalently we can write qt.mesolve(Ham, psi0, timelst, [], [exp_sx, exp_sy])\n",
    "\n",
    "# Plotting\n",
    "plt.plot(timelst, exp_sx, label = r\"$\\left\\langle\\sigma_x\\right\\rangle$\")\n",
    "plt.plot(timelst, exp_sy, label = r\"$\\left\\langle\\sigma_y\\right\\rangle$\")\n",
    "plt.legend(loc = \"best\")\n",
    "plt.xlabel(\"time\")\n",
    "plt.show()"
   ]
  },
  {
   "cell_type": "markdown",
   "metadata": {},
   "source": [
    "#### **Dissipative (non-unitary) dynamics**\n",
    "\n",
    "Another example, we consider a quantum harmonic oscillator which loses photons to the environment with a certain relaxation rate. "
   ]
  },
  {
   "cell_type": "code",
   "execution_count": 46,
   "metadata": {},
   "outputs": [
    {
     "ename": "NameError",
     "evalue": "name 'tlist' is not defined",
     "output_type": "error",
     "traceback": [
      "\u001b[1;31m---------------------------------------------------------------------------\u001b[0m",
      "\u001b[1;31mNameError\u001b[0m                                 Traceback (most recent call last)",
      "\u001b[1;32mc:\\Users\\hendr\\Downloads\\Qutip Lecture 0.ipynb Cell 28\u001b[0m line \u001b[0;36m1\n\u001b[0;32m     <a href='vscode-notebook-cell:/c%3A/Users/hendr/Downloads/Qutip%20Lecture%200.ipynb#X53sZmlsZQ%3D%3D?line=14'>15</a>\u001b[0m result \u001b[39m=\u001b[39m qt\u001b[39m.\u001b[39mmesolve(Ham, rho0, timelst, [col], [a\u001b[39m.\u001b[39mdag() \u001b[39m*\u001b[39m a])\n\u001b[0;32m     <a href='vscode-notebook-cell:/c%3A/Users/hendr/Downloads/Qutip%20Lecture%200.ipynb#X53sZmlsZQ%3D%3D?line=15'>16</a>\u001b[0m                                               \u001b[39m# is the number operator\u001b[39;00m\n\u001b[1;32m---> <a href='vscode-notebook-cell:/c%3A/Users/hendr/Downloads/Qutip%20Lecture%200.ipynb#X53sZmlsZQ%3D%3D?line=17'>18</a>\u001b[0m plt\u001b[39m.\u001b[39mplot(tlist, result\u001b[39m.\u001b[39mexpect[\u001b[39m0\u001b[39m])\n\u001b[0;32m     <a href='vscode-notebook-cell:/c%3A/Users/hendr/Downloads/Qutip%20Lecture%200.ipynb#X53sZmlsZQ%3D%3D?line=18'>19</a>\u001b[0m                 \u001b[39m# gets the expectation value from a mesolve call\u001b[39;00m\n\u001b[0;32m     <a href='vscode-notebook-cell:/c%3A/Users/hendr/Downloads/Qutip%20Lecture%200.ipynb#X53sZmlsZQ%3D%3D?line=19'>20</a>\u001b[0m plt\u001b[39m.\u001b[39mxlabel(\u001b[39m\"\u001b[39m\u001b[39mtime\u001b[39m\u001b[39m\"\u001b[39m)\n",
      "\u001b[1;31mNameError\u001b[0m: name 'tlist' is not defined"
     ]
    }
   ],
   "source": [
    "w = 1 # is the oscilaltor frequency\n",
    "k = 0.1 # is the relaxation rate\n",
    "a = qt.destroy(20) \n",
    "\n",
    "rho0 = qt.fock_dm(20, 10) # We make a Fock density matrix which says that there are 10 photons initially.\n",
    "\n",
    "# The Hamiltonian\n",
    "Ham = w * a.dag() * a # .dag() takes the hermitian conjugate\n",
    "\n",
    "# The collapse operator\n",
    "col = np.sqrt(k) * a\n",
    "\n",
    "timelst = np.linspace(0, 100, 100)\n",
    "\n",
    "result = qt.mesolve(Ham, rho0, timelst, [col], [a.dag() * a])\n",
    "                                              # is the number operator\n",
    "\n",
    "plt.plot(timelst, result.expect[0])\n",
    "                # gets the expectation value from a mesolve call\n",
    "plt.xlabel(\"time\")\n",
    "plt.ylabel(\"photon number\")\n",
    "plt.show()"
   ]
  }
 ],
 "metadata": {
  "kernelspec": {
   "display_name": ".venv",
   "language": "python",
   "name": "python3"
  },
  "language_info": {
   "codemirror_mode": {
    "name": "ipython",
    "version": 3
   },
   "file_extension": ".py",
   "mimetype": "text/x-python",
   "name": "python",
   "nbconvert_exporter": "python",
   "pygments_lexer": "ipython3",
   "version": "3.11.5"
  },
  "orig_nbformat": 4
 },
 "nbformat": 4,
 "nbformat_minor": 2
}
