{
 "cells": [
  {
   "cell_type": "code",
   "execution_count": 21,
   "metadata": {
    "id": "ZIr-H-Fwkrui"
   },
   "outputs": [],
   "source": [
    "import numpy as np\n",
    "import matplotlib.pyplot as plt"
   ]
  },
  {
   "cell_type": "code",
   "execution_count": 22,
   "metadata": {
    "id": "YRPqlR-BmHHh"
   },
   "outputs": [],
   "source": [
    "# Set common figure parameters:\n",
    "newparams = {'axes.labelsize': 14, 'axes.linewidth': 1, 'savefig.dpi': 300,\n",
    "             'lines.linewidth': 1.0, 'figure.figsize': (8, 3),\n",
    "             'figure.subplot.wspace': 0.4,\n",
    "             'ytick.labelsize': 10, 'xtick.labelsize': 10,\n",
    "             'ytick.major.pad': 5, 'xtick.major.pad': 5,\n",
    "             'legend.fontsize': 10, 'legend.frameon': False,\n",
    "             'legend.handlelength': 1.5}\n",
    "plt.rcParams.update(newparams)"
   ]
  },
  {
   "cell_type": "code",
   "execution_count": 26,
   "metadata": {
    "colab": {
     "base_uri": "https://localhost:8080/",
     "height": 1000
    },
    "id": "BY-_0GFXm1V-",
    "outputId": "463e2b17-53b3-4f7e-cc3c-deaedf1bde83"
   },
   "outputs": [],
   "source": [
    "x = np.linspace(-6,6,1000,True)\n",
    "V = 0.5*x**2\n",
    "omega = np.pi * 5\n",
    "alpha = 1.5\n",
    "hbar = 1\n",
    "xi = x*np.sqrt(omega/hbar)\n",
    "n = 0\n",
    "for t in np.arange(0, 10, 0.1):\n",
    "    psi = ((omega/(np.pi*hbar))**(0.25)*\n",
    "          np.exp(-np.abs(alpha)**2/2)*\n",
    "          np.exp(xi**2/2)*\n",
    "          np.abs(np.exp(-(xi-alpha*np.exp(-1j*omega*t)/np.sqrt(2))**2))\n",
    "          )\n",
    "    #Plot:\n",
    "    fig, ax = plt.subplots(1, figsize = (7,3.5))\n",
    "    ax.plot(x, psi, 'g:', label = \"Analytical wavefunction\")       # analytical eigenfunction\n",
    "    ax.plot(x, V, 'r', label = r\"Potential $V(x)$\")               # potential\n",
    "    # plt.plot(-x, psi, 'g:', -x, V , 'r') # same as above for negative x-values\n",
    "    ax.legend(loc = \"best\")\n",
    "    ax.set_xlabel(r'$x$')\n",
    "    ax.set_ylabel(r'$\\psi(x)$')\n",
    "    ax.set_ylim([-0.5, 3])\n",
    "    ax.set_xlim([-6, 6])\n",
    "    fig.suptitle(f't={round(t,1)}');\n",
    "    plt.savefig(f'pics/{n:03d}.png', dpi = 600)\n",
    "    n+=1\n",
    "    plt.close()"
   ]
  },
  {
   "cell_type": "code",
   "execution_count": null,
   "metadata": {
    "id": "DlqJ2BtnnINr"
   },
   "outputs": [],
   "source": [
    "!ffmpeg \\\n",
    " -y \\\n",
    " -r 10 \\\n",
    " -i ./pics/%03d.png \\\n",
    " -c:v libx264 \\\n",
    " -vf \"pad=ceil(iw/2)*2:ceil(ih/2)*2,fps=24,format=yuv420p\" \\\n",
    " animasi.mp4"
   ]
  },
  {
   "cell_type": "code",
   "execution_count": null,
   "metadata": {},
   "outputs": [],
   "source": []
  }
 ],
 "metadata": {
  "colab": {
   "provenance": []
  },
  "kernelspec": {
   "display_name": "Python 3 (ipykernel)",
   "language": "python",
   "name": "python3"
  },
  "language_info": {
   "codemirror_mode": {
    "name": "ipython",
    "version": 3
   },
   "file_extension": ".py",
   "mimetype": "text/x-python",
   "name": "python",
   "nbconvert_exporter": "python",
   "pygments_lexer": "ipython3",
   "version": "3.11.2"
  }
 },
 "nbformat": 4,
 "nbformat_minor": 4
}
